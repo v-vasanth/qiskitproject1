{
 "cells": [
  {
   "cell_type": "code",
   "execution_count": 2,
   "id": "a8b4c50b-9b91-4652-9f0e-74e781265979",
   "metadata": {
    "tags": []
   },
   "outputs": [],
   "source": [
    "# Importing standard Qiskit libraries\n",
    "from qiskit import QuantumCircuit, transpile\n",
    "from qiskit.tools.jupyter import *\n",
    "from qiskit.visualization import *\n",
    "from ibm_quantum_widgets import *\n",
    "from qiskit_aer import AerSimulator\n",
    "\n",
    "# qiskit-ibmq-provider has been deprecated.\n",
    "# Please see the Migration Guides in https://ibm.biz/provider_migration_guide for more detail.\n",
    "from qiskit_ibm_runtime import QiskitRuntimeService, Sampler, Estimator, Session, Options\n",
    "\n",
    "# Loading your IBM Quantum account(s)\n",
    "service = QiskitRuntimeService(channel=\"ibm_quantum\")\n",
    "\n",
    "# Invoke a primitive inside a session. For more details see https://qiskit.org/documentation/partners/qiskit_ibm_runtime/tutorials.html\n",
    "# with Session(backend=service.backend(\"ibmq_qasm_simulator\")):\n",
    "#     result = Sampler().run(circuits).result()"
   ]
  },
  {
   "cell_type": "code",
   "execution_count": 5,
   "id": "f4032f0f-ebfa-42c4-9d6c-6881bf8eebd1",
   "metadata": {
    "tags": []
   },
   "outputs": [
    {
     "name": "stdout",
     "output_type": "stream",
     "text": [
      "State before the oracle:\n",
      "Statevector([ 1.+0.j, -0.+0.j,  0.+0.j, -0.+0.j,  0.+0.j, -0.+0.j,  0.+0.j,\n",
      "             -0.+0.j,  0.+0.j, -0.+0.j,  0.+0.j, -0.+0.j,  0.+0.j, -0.+0.j,\n",
      "              0.+0.j, -0.+0.j,  0.+0.j,  0.+0.j,  0.+0.j,  0.+0.j,  0.+0.j,\n",
      "              0.+0.j,  0.+0.j,  0.+0.j,  0.+0.j,  0.+0.j,  0.+0.j,  0.+0.j,\n",
      "              0.+0.j,  0.+0.j,  0.+0.j,  0.+0.j],\n",
      "            dims=(2, 2, 2, 2, 2))\n",
      "\n",
      "State after the oracle:\n",
      "[ 1.-0.j -0.-0.j  0.-0.j -0.-0.j  0.-0.j -0.-0.j  0.-0.j -0.-0.j  0.-0.j\n",
      " -0.-0.j  0.-0.j -0.-0.j  0.-0.j -0.-0.j  0.-0.j -0.-0.j  0.-0.j  0.-0.j\n",
      "  0.-0.j  0.-0.j  0.-0.j  0.-0.j  0.-0.j  0.-0.j  0.-0.j  0.-0.j  0.-0.j\n",
      "  0.-0.j  0.-0.j  0.-0.j  0.-0.j  0.-0.j]\n"
     ]
    },
    {
     "name": "stderr",
     "output_type": "stream",
     "text": [
      "/tmp/ipykernel_328/501170095.py:37: DeprecationWarning: The return type of saved statevectors has been changed from a `numpy.ndarray` to a `qiskit.quantum_info.Statevector` as of qiskit-aer 0.10. Accessing numpy array attributes is deprecated and will result in an error in a future release. To continue using saved result objects as arrays you can explicitly cast them using  `np.asarray(object)`.\n",
      "  print(statevector.conj())\n"
     ]
    },
    {
     "data": {
      "image/png": "[encoded data removed]",
      "text/plain": [
       "<Figure size 389.338x451.5 with 1 Axes>"
      ]
     },
     "execution_count": 5,
     "metadata": {},
     "output_type": "execute_result"
    }
   ],
   "source": [
    "from qiskit import QuantumCircuit, QuantumRegister, Aer, execute\n",
    "\n",
    "def build_oracle(input_string):\n",
    "    num_qubits = len(input_string)\n",
    "    \n",
    "    qr = QuantumRegister(num_qubits)\n",
    "    qc = QuantumCircuit(qr)\n",
    "    \n",
    "    # Apply X gates to qubits corresponding to 1s in the input string\n",
    "    for i, bit in enumerate(input_string):\n",
    "        if bit == 1:\n",
    "            qc.x(qr[i])\n",
    "    \n",
    "    # Apply the phase inversion to the state |01101>\n",
    "    qc.cz(qr[0], qr[num_qubits-1])\n",
    "    \n",
    "    # Apply X gates again to qubits corresponding to 1s in the input string\n",
    "    for i, bit in enumerate(input_string):\n",
    "        if bit == 1:\n",
    "            qc.x(qr[i])\n",
    "    \n",
    "    return qc\n",
    "\n",
    "input_string = [0, 1, 1, 0, 1]\n",
    "oracle_circuit = build_oracle(input_string)\n",
    "\n",
    "simulator = Aer.get_backend('statevector_simulator')\n",
    "job = execute(oracle_circuit, simulator)\n",
    "result = job.result()\n",
    "statevector = result.get_statevector()\n",
    "\n",
    "# Print the state before and after applying the oracle\n",
    "print(\"State before the oracle:\")\n",
    "print(statevector)\n",
    "\n",
    "print(\"\\nState after the oracle:\")\n",
    "print(statevector.conj())\n",
    "\n",
    "# Draw the quantum circuit\n",
    "oracle_circuit.draw()\n"
   ]
  },
  {
   "cell_type": "code",
   "execution_count": null,
   "id": "e79bed12-d360-426d-aa46-2c9a00e68f2a",
   "metadata": {},
   "outputs": [],
   "source": []
  }
 ],
 "metadata": {
  "kernelspec": {
   "display_name": "Python 3 (ipykernel)",
   "language": "python",
   "name": "python3"
  },
  "language_info": {
   "codemirror_mode": {
    "name": "ipython",
    "version": 3
   },
   "file_extension": ".py",
   "mimetype": "text/x-python",
   "name": "python",
   "nbconvert_exporter": "python",
   "pygments_lexer": "ipython3",
   "version": "3.10.8"
  },
  "widgets": {
   "application/vnd.jupyter.widget-state+json": {
    "state": {
     "181291b1adbd4d7b89f7ce67929a7610": {
      "model_module": "@jupyter-widgets/base",
      "model_module_version": "2.0.0",
      "model_name": "LayoutModel",
      "state": {
       "width": "145px"
      }
     },
     "22ce45ecc8bd465f8d3dc48e46251835": {
      "model_module": "@jupyter-widgets/controls",
      "model_module_version": "2.0.0",
      "model_name": "HTMLStyleModel",
      "state": {
       "description_width": "",
       "font_size": null,
       "text_color": null
      }
     },
     "24e0f9f219c541c392188c4791de1940": {
      "model_module": "@jupyter-widgets/controls",
      "model_module_version": "2.0.0",
      "model_name": "HTMLStyleModel",
      "state": {
       "description_width": "",
       "font_size": null,
       "text_color": null
      }
     },
     "27450cae9404475592a2fb33e00f0da0": {
      "model_module": "@jupyter-widgets/base",
      "model_module_version": "2.0.0",
      "model_name": "LayoutModel",
      "state": {
       "margin": "0px 0px 0px 37px",
       "width": "600px"
      }
     },
     "2d007cbc021c4e7abb726fa806e9944b": {
      "model_module": "@jupyter-widgets/controls",
      "model_module_version": "2.0.0",
      "model_name": "HTMLStyleModel",
      "state": {
       "description_width": "",
       "font_size": null,
       "text_color": null
      }
     },
     "2d673cedac3145f6844600a6b145f5ba": {
      "model_module": "@jupyter-widgets/base",
      "model_module_version": "2.0.0",
      "model_name": "LayoutModel",
      "state": {}
     },
     "32685427f3704be594a24abcd0678a0b": {
      "model_module": "@jupyter-widgets/controls",
      "model_module_version": "2.0.0",
      "model_name": "ButtonStyleModel",
      "state": {
       "font_family": null,
       "font_size": null,
       "font_style": null,
       "font_variant": null,
       "font_weight": null,
       "text_color": null,
       "text_decoration": null
      }
     },
     "331f37f1beb34e479c5de3a92ae0f354": {
      "model_module": "@jupyter-widgets/base",
      "model_module_version": "2.0.0",
      "model_name": "LayoutModel",
      "state": {
       "margin": "0px 0px 10px 0px"
      }
     },
     "3630623909ec4177a8caaf6998a64f77": {
      "model_module": "@jupyter-widgets/controls",
      "model_module_version": "2.0.0",
      "model_name": "ButtonModel",
      "state": {
       "button_style": "primary",
       "description": "Clear",
       "layout": "IPY_MODEL_401cb0fc3aa24679b7ee407c2aaa7a2a",
       "style": "IPY_MODEL_32685427f3704be594a24abcd0678a0b",
       "tooltip": null
      }
     },
     "401cb0fc3aa24679b7ee407c2aaa7a2a": {
      "model_module": "@jupyter-widgets/base",
      "model_module_version": "2.0.0",
      "model_name": "LayoutModel",
      "state": {
       "grid_area": "right",
       "padding": "0px 0px 0px 0px",
       "width": "70px"
      }
     },
     "42fb6254f56842aba475854a71074c4c": {
      "model_module": "@jupyter-widgets/controls",
      "model_module_version": "2.0.0",
      "model_name": "HTMLModel",
      "state": {
       "layout": "IPY_MODEL_331f37f1beb34e479c5de3a92ae0f354",
       "style": "IPY_MODEL_22ce45ecc8bd465f8d3dc48e46251835",
       "value": "<p style='font-family: IBM Plex Sans, Arial, Helvetica, sans-serif; font-size: 20px; font-weight: medium;'>Circuit Properties</p>"
      }
     },
     "44b2e7f968244df0999e0b40ca40796a": {
      "model_module": "@jupyter-widgets/controls",
      "model_module_version": "2.0.0",
      "model_name": "HTMLModel",
      "state": {
       "layout": "IPY_MODEL_920d0e41be65411192b0bbc5820a2da3",
       "style": "IPY_MODEL_80420afb7e48465d909aa173df98a66c",
       "value": "<h5>Job ID</h5>"
      }
     },
     "61e96b256ab3433b97d0438eee4b581a": {
      "model_module": "@jupyter-widgets/controls",
      "model_module_version": "2.0.0",
      "model_name": "HTMLModel",
      "state": {
       "layout": "IPY_MODEL_ee2467c1c4b641b7bfffaa79e3a20306",
       "style": "IPY_MODEL_24e0f9f219c541c392188c4791de1940",
       "value": "<h5>Status</h5>"
      }
     },
     "63537cc7c606463480259b74131b3dcd": {
      "model_module": "@jupyter-widgets/controls",
      "model_module_version": "2.0.0",
      "model_name": "GridBoxModel",
      "state": {
       "children": [
        "IPY_MODEL_3630623909ec4177a8caaf6998a64f77"
       ],
       "layout": "IPY_MODEL_cbb42186721e4ceb9098941b65ff9f36"
      }
     },
     "68b10015aa8c4caea49205fa70e7e89d": {
      "model_module": "@jupyter-widgets/controls",
      "model_module_version": "2.0.0",
      "model_name": "HTMLModel",
      "state": {
       "layout": "IPY_MODEL_a9c460736b7945f28828df99aa0c8d4b",
       "style": "IPY_MODEL_d7f618a1ff9947f2a676a13999143130",
       "value": "<h5>Queue</h5>"
      }
     },
     "80420afb7e48465d909aa173df98a66c": {
      "model_module": "@jupyter-widgets/controls",
      "model_module_version": "2.0.0",
      "model_name": "HTMLStyleModel",
      "state": {
       "description_width": "",
       "font_size": null,
       "text_color": null
      }
     },
     "920d0e41be65411192b0bbc5820a2da3": {
      "model_module": "@jupyter-widgets/base",
      "model_module_version": "2.0.0",
      "model_name": "LayoutModel",
      "state": {
       "width": "190px"
      }
     },
     "a34d04edbf514f60b52053de9b7ba1c7": {
      "model_module": "@jupyter-widgets/controls",
      "model_module_version": "2.0.0",
      "model_name": "HTMLStyleModel",
      "state": {
       "description_width": "",
       "font_size": null,
       "text_color": null
      }
     },
     "a9c460736b7945f28828df99aa0c8d4b": {
      "model_module": "@jupyter-widgets/base",
      "model_module_version": "2.0.0",
      "model_name": "LayoutModel",
      "state": {
       "width": "70px"
      }
     },
     "c0c640784dd9471cb7c91bcd4d3c7bce": {
      "model_module": "@jupyter-widgets/controls",
      "model_module_version": "2.0.0",
      "model_name": "HTMLModel",
      "state": {
       "layout": "IPY_MODEL_2d673cedac3145f6844600a6b145f5ba",
       "style": "IPY_MODEL_2d007cbc021c4e7abb726fa806e9944b",
       "value": "<h5>Message</h5>"
      }
     },
     "cbb42186721e4ceb9098941b65ff9f36": {
      "model_module": "@jupyter-widgets/base",
      "model_module_version": "2.0.0",
      "model_name": "LayoutModel",
      "state": {
       "grid_template_areas": "\n                                       \". . . . right \"\n                                        ",
       "grid_template_columns": "20% 20% 20% 20% 20%",
       "width": "100%"
      }
     },
     "d0a9dec7d85f45f69f8b72456a240334": {
      "model_module": "@jupyter-widgets/controls",
      "model_module_version": "2.0.0",
      "model_name": "HTMLModel",
      "state": {
       "layout": "IPY_MODEL_181291b1adbd4d7b89f7ce67929a7610",
       "style": "IPY_MODEL_a34d04edbf514f60b52053de9b7ba1c7",
       "value": "<h5>Backend</h5>"
      }
     },
     "d7f618a1ff9947f2a676a13999143130": {
      "model_module": "@jupyter-widgets/controls",
      "model_module_version": "2.0.0",
      "model_name": "HTMLStyleModel",
      "state": {
       "description_width": "",
       "font_size": null,
       "text_color": null
      }
     },
     "dd4131c21a33483692dfbf0ffc1414c3": {
      "model_module": "@jupyter-widgets/controls",
      "model_module_version": "2.0.0",
      "model_name": "HBoxModel",
      "state": {
       "children": [
        "IPY_MODEL_44b2e7f968244df0999e0b40ca40796a",
        "IPY_MODEL_d0a9dec7d85f45f69f8b72456a240334",
        "IPY_MODEL_61e96b256ab3433b97d0438eee4b581a",
        "IPY_MODEL_68b10015aa8c4caea49205fa70e7e89d",
        "IPY_MODEL_c0c640784dd9471cb7c91bcd4d3c7bce"
       ],
       "layout": "IPY_MODEL_27450cae9404475592a2fb33e00f0da0"
      }
     },
     "ee2467c1c4b641b7bfffaa79e3a20306": {
      "model_module": "@jupyter-widgets/base",
      "model_module_version": "2.0.0",
      "model_name": "LayoutModel",
      "state": {
       "width": "95px"
      }
     }
    },
    "version_major": 2,
    "version_minor": 0
   }
  }
 },
 "nbformat": 4,
 "nbformat_minor": 5
}
